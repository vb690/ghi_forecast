{
 "cells": [
  {
   "cell_type": "code",
   "execution_count": 1,
   "id": "65788f98-07b9-49b4-9902-80b6d0cc9121",
   "metadata": {},
   "outputs": [],
   "source": [
    "import pandas as pd"
   ]
  },
  {
   "cell_type": "code",
   "execution_count": 51,
   "id": "1344be0a-a5d4-429f-8649-660596b61c12",
   "metadata": {},
   "outputs": [
    {
     "data": {
      "text/html": [
       "<div>\n",
       "<style scoped>\n",
       "    .dataframe tbody tr th:only-of-type {\n",
       "        vertical-align: middle;\n",
       "    }\n",
       "\n",
       "    .dataframe tbody tr th {\n",
       "        vertical-align: top;\n",
       "    }\n",
       "\n",
       "    .dataframe thead th {\n",
       "        text-align: right;\n",
       "    }\n",
       "</style>\n",
       "<table border=\"1\" class=\"dataframe\">\n",
       "  <thead>\n",
       "    <tr style=\"text-align: right;\">\n",
       "      <th></th>\n",
       "      <th></th>\n",
       "      <th></th>\n",
       "      <th></th>\n",
       "      <th></th>\n",
       "      <th></th>\n",
       "      <th></th>\n",
       "      <th></th>\n",
       "      <th></th>\n",
       "      <th>12Z NAM forecast for Folsom Lat=38.579454 Lon=-121.260320</th>\n",
       "    </tr>\n",
       "  </thead>\n",
       "  <tbody>\n",
       "    <tr>\n",
       "      <th>reftime</th>\n",
       "      <th>valtime</th>\n",
       "      <th>dwsw</th>\n",
       "      <th>cloud_cover</th>\n",
       "      <th>precipitation</th>\n",
       "      <th>pressure</th>\n",
       "      <th>wind-u</th>\n",
       "      <th>wind-v</th>\n",
       "      <th>temperature</th>\n",
       "      <td>rel_humidity</td>\n",
       "    </tr>\n",
       "    <tr>\n",
       "      <th rowspan=\"4\" valign=\"top\">2014-01-01 12:00:00</th>\n",
       "      <th>2014-01-02 14:00:00</th>\n",
       "      <th>0.0000</th>\n",
       "      <th>2.0000</th>\n",
       "      <th>0.0000</th>\n",
       "      <th>101560.0000</th>\n",
       "      <th>-1.2019</th>\n",
       "      <th>-0.8152</th>\n",
       "      <th>273.2540</th>\n",
       "      <td>53.0000</td>\n",
       "    </tr>\n",
       "    <tr>\n",
       "      <th>2014-01-02 15:00:00</th>\n",
       "      <th>0.0000</th>\n",
       "      <th>0.0000</th>\n",
       "      <th>0.0000</th>\n",
       "      <th>101546.0000</th>\n",
       "      <th>-1.0587</th>\n",
       "      <th>-0.6262</th>\n",
       "      <th>272.8650</th>\n",
       "      <td>53.0000</td>\n",
       "    </tr>\n",
       "    <tr>\n",
       "      <th>2014-01-02 16:00:00</th>\n",
       "      <th>95.0000</th>\n",
       "      <th>0.0000</th>\n",
       "      <th>0.0000</th>\n",
       "      <th>101576.0000</th>\n",
       "      <th>-0.8595</th>\n",
       "      <th>-0.3518</th>\n",
       "      <th>276.1750</th>\n",
       "      <td>52.0000</td>\n",
       "    </tr>\n",
       "    <tr>\n",
       "      <th>2014-01-02 17:00:00</th>\n",
       "      <th>270.8750</th>\n",
       "      <th>0.0000</th>\n",
       "      <th>0.0000</th>\n",
       "      <th>101649.0000</th>\n",
       "      <th>-0.4019</th>\n",
       "      <th>-0.0743</th>\n",
       "      <th>283.2530</th>\n",
       "      <td>46.0000</td>\n",
       "    </tr>\n",
       "    <tr>\n",
       "      <th>...</th>\n",
       "      <th>...</th>\n",
       "      <th>...</th>\n",
       "      <th>...</th>\n",
       "      <th>...</th>\n",
       "      <th>...</th>\n",
       "      <th>...</th>\n",
       "      <th>...</th>\n",
       "      <th>...</th>\n",
       "      <td>...</td>\n",
       "    </tr>\n",
       "    <tr>\n",
       "      <th rowspan=\"5\" valign=\"top\">2016-12-31 12:00:00</th>\n",
       "      <th>2017-01-01 23:00:00</th>\n",
       "      <th>98.2500</th>\n",
       "      <th>100.0000</th>\n",
       "      <th>0.3750</th>\n",
       "      <th>100790.0000</th>\n",
       "      <th>1.0159</th>\n",
       "      <th>-0.2391</th>\n",
       "      <th>281.5830</th>\n",
       "      <td>81.0000</td>\n",
       "    </tr>\n",
       "    <tr>\n",
       "      <th>2017-01-02 00:00:00</th>\n",
       "      <th>40.1250</th>\n",
       "      <th>100.0000</th>\n",
       "      <th>0.3750</th>\n",
       "      <th>100810.0000</th>\n",
       "      <th>1.1071</th>\n",
       "      <th>0.3261</th>\n",
       "      <th>280.9580</th>\n",
       "      <td>81.0000</td>\n",
       "    </tr>\n",
       "    <tr>\n",
       "      <th>2017-01-02 03:00:00</th>\n",
       "      <th>0.0000</th>\n",
       "      <th>100.0000</th>\n",
       "      <th>0.0000</th>\n",
       "      <th>100855.0000</th>\n",
       "      <th>0.0090</th>\n",
       "      <th>1.8306</th>\n",
       "      <th>279.1980</th>\n",
       "      <td>90.0000</td>\n",
       "    </tr>\n",
       "    <tr>\n",
       "      <th>2017-01-02 06:00:00</th>\n",
       "      <th>0.0000</th>\n",
       "      <th>84.0000</th>\n",
       "      <th>0.0000</th>\n",
       "      <th>100931.0000</th>\n",
       "      <th>-1.1636</th>\n",
       "      <th>2.5991</th>\n",
       "      <th>274.8840</th>\n",
       "      <td>95.0000</td>\n",
       "    </tr>\n",
       "    <tr>\n",
       "      <th>2017-01-02 09:00:00</th>\n",
       "      <th>0.0000</th>\n",
       "      <th>100.0000</th>\n",
       "      <th>0.0000</th>\n",
       "      <th>100962.0000</th>\n",
       "      <th>-1.2478</th>\n",
       "      <th>3.4807</th>\n",
       "      <th>275.9720</th>\n",
       "      <td>96.0000</td>\n",
       "    </tr>\n",
       "  </tbody>\n",
       "</table>\n",
       "<p>14981 rows × 1 columns</p>\n",
       "</div>"
      ],
      "text/plain": [
       "                                                                                                                   12Z NAM forecast for Folsom Lat=38.579454 Lon=-121.260320\n",
       "reftime             valtime             dwsw     cloud_cover precipitation pressure    wind-u  wind-v  temperature                                       rel_humidity       \n",
       "2014-01-01 12:00:00 2014-01-02 14:00:00 0.0000   2.0000      0.0000        101560.0000 -1.2019 -0.8152 273.2540                                               53.0000       \n",
       "                    2014-01-02 15:00:00 0.0000   0.0000      0.0000        101546.0000 -1.0587 -0.6262 272.8650                                               53.0000       \n",
       "                    2014-01-02 16:00:00 95.0000  0.0000      0.0000        101576.0000 -0.8595 -0.3518 276.1750                                               52.0000       \n",
       "                    2014-01-02 17:00:00 270.8750 0.0000      0.0000        101649.0000 -0.4019 -0.0743 283.2530                                               46.0000       \n",
       "...                                                                                                                                                               ...       \n",
       "2016-12-31 12:00:00 2017-01-01 23:00:00 98.2500  100.0000    0.3750        100790.0000 1.0159  -0.2391 281.5830                                               81.0000       \n",
       "                    2017-01-02 00:00:00 40.1250  100.0000    0.3750        100810.0000 1.1071  0.3261  280.9580                                               81.0000       \n",
       "                    2017-01-02 03:00:00 0.0000   100.0000    0.0000        100855.0000 0.0090  1.8306  279.1980                                               90.0000       \n",
       "                    2017-01-02 06:00:00 0.0000   84.0000     0.0000        100931.0000 -1.1636 2.5991  274.8840                                               95.0000       \n",
       "                    2017-01-02 09:00:00 0.0000   100.0000    0.0000        100962.0000 -1.2478 3.4807  275.9720                                               96.0000       \n",
       "\n",
       "[14981 rows x 1 columns]"
      ]
     },
     "execution_count": 51,
     "metadata": {},
     "output_type": "execute_result"
    }
   ],
   "source": [
    "df = pd.read_csv(\"Folsom_irradiance.csv\", parse_dates=[\"timeStamp\"])\n",
    "\n",
    "df = pd.read_csv(\"Folsom_NAM_lat38.579454_lon-121.260320.csv\")\n",
    "df"
   ]
  },
  {
   "cell_type": "code",
   "execution_count": 38,
   "id": "6dd125b1-4620-4b8f-8b17-e28b20fa5461",
   "metadata": {},
   "outputs": [
    {
     "data": {
      "text/plain": [
       "<matplotlib.image.AxesImage at 0x7f37acecc690>"
      ]
     },
     "execution_count": 38,
     "metadata": {},
     "output_type": "execute_result"
    },
    {
     "data": {
      "image/png": "[encoded data removed]",
      "text/plain": [
       "<Figure size 640x480 with 1 Axes>"
      ]
     },
     "metadata": {},
     "output_type": "display_data"
    }
   ],
   "source": [
    "x = df.iloc[4, :].values[1:].reshape(10, 10).astype(int)\n",
    "plt.imshow(x)"
   ]
  },
  {
   "cell_type": "code",
   "execution_count": 12,
   "id": "06be261a-21f1-47bd-bc55-6ddf83aeb9f9",
   "metadata": {},
   "outputs": [],
   "source": [
    "import matplotlib.pyplot as plt"
   ]
  },
  {
   "cell_type": "code",
   "execution_count": 48,
   "id": "d8e6e8c5-2414-4f3e-a6b0-241277dbb883",
   "metadata": {},
   "outputs": [
    {
     "data": {
      "text/plain": [
       "[<matplotlib.lines.Line2D at 0x7f37aa69b550>]"
      ]
     },
     "execution_count": 48,
     "metadata": {},
     "output_type": "execute_result"
    },
    {
     "data": {
      "image/png": "[encoded data removed]",
      "text/plain": [
       "<Figure size 640x480 with 1 Axes>"
      ]
     },
     "metadata": {},
     "output_type": "display_data"
    }
   ],
   "source": [
    "plt.plot(\n",
    "    df.timeStamp[-1440:],\n",
    "    df.ghi[-1440:]\n",
    ")"
   ]
  },
  {
   "cell_type": "code",
   "execution_count": 47,
   "id": "b11f2995-3b60-4934-82cb-3184d3b452bb",
   "metadata": {},
   "outputs": [
    {
     "data": {
      "text/plain": [
       "1440"
      ]
     },
     "execution_count": 47,
     "metadata": {},
     "output_type": "execute_result"
    }
   ],
   "source": [
    "60 * 24"
   ]
  },
  {
   "cell_type": "code",
   "execution_count": null,
   "id": "35adfded-5621-4694-bc56-6c462bdbeeba",
   "metadata": {},
   "outputs": [],
   "source": []
  }
 ],
 "metadata": {
  "kernelspec": {
   "display_name": "Python 3 (ipykernel)",
   "language": "python",
   "name": "python3"
  },
  "language_info": {
   "codemirror_mode": {
    "name": "ipython",
    "version": 3
   },
   "file_extension": ".py",
   "mimetype": "text/x-python",
   "name": "python",
   "nbconvert_exporter": "python",
   "pygments_lexer": "ipython3",
   "version": "3.11.4"
  }
 },
 "nbformat": 4,
 "nbformat_minor": 5
}
