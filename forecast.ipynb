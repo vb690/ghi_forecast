{
 "cells": [
  {
   "cell_type": "code",
   "execution_count": 2,
   "id": "7f7e6f7f-1491-4d2c-b5a8-efb4b6b2c78e",
   "metadata": {
    "tags": []
   },
   "outputs": [
    {
     "name": "stdout",
     "output_type": "stream",
     "text": [
      "The autoreload extension is already loaded. To reload it, use:\n",
      "  %reload_ext autoreload\n"
     ]
    }
   ],
   "source": [
    "%load_ext autoreload\n",
    "%autoreload 2"
   ]
  },
  {
   "cell_type": "code",
   "execution_count": 3,
   "id": "65788f98-07b9-49b4-9902-80b6d0cc9121",
   "metadata": {},
   "outputs": [],
   "source": [
    "import os\n",
    "\n",
    "import numpy as np\n",
    "\n",
    "import pandas as pd\n",
    "\n",
    "import matplotlib.pyplot as plt\n",
    "import seaborn as sns\n",
    "\n",
    "from modules.models.baselines import static_stat_forecast, rolling_stat_forecast, ewm_forecast\n",
    "from modules.diagnostics.visualizers import visualize_forecast_horizon_accuracy\n",
    "from modules.diagnostics.metrics import compute_rmse\n",
    "from modules.data_handling.data_splitters import split_time_series_df"
   ]
  },
  {
   "cell_type": "markdown",
   "id": "0a1921ec-0e90-4c18-a9e5-3e036062fe8d",
   "metadata": {},
   "source": [
    "# Constants"
   ]
  },
  {
   "cell_type": "code",
   "execution_count": 10,
   "id": "188fcd0e-55fa-4ad5-b8ea-3a7d4eae1ee8",
   "metadata": {
    "tags": []
   },
   "outputs": [],
   "source": [
    "TRAINING_END_DATE = \"2016-01-01\"\n",
    "\n",
    "DATA_FOLDER = \"data\"\n",
    "GHI_FILE = \"irradiance.csv\"\n",
    "WEATHER_FORECAST_FILES = [\n",
    "    \"nam_lat38.579454_lon121.260320.csv\"\n",
    "]\n",
    "SATELLITE_FILE = \"satellite.csv\""
   ]
  },
  {
   "cell_type": "markdown",
   "id": "efb0f884-eb77-4ea9-95f7-9781a0eb5471",
   "metadata": {},
   "source": [
    "# Data Loading"
   ]
  },
  {
   "cell_type": "code",
   "execution_count": 32,
   "id": "1344be0a-a5d4-429f-8649-660596b61c12",
   "metadata": {},
   "outputs": [],
   "source": [
    "ghi_df = pd.read_csv(os.path.join(DATA_FOLDER, GHI_FILE), parse_dates=[\"timeStamp\"])\n",
    "idx = pd.date_range(ghi_df[\"timeStamp\"].min(), ghi_df[\"timeStamp\"].max(), freq=\"1min\")\n",
    "ghi_df = ghi_df.set_index(\"timeStamp\") \n",
    "ghi_df = ghi_df.reindex(idx, fill_value=0)\n",
    "ghi_df = ghi_df.reset_index().rename({\"index\": \"time\"}, axis=1)\n",
    "\n",
    "weather_df = []\n",
    "for weather_forecast_file in WEATHER_FORECAST_FILES:\n",
    "    \n",
    "    weather_df.append(pd.read_csv(os.path.join(DATA_FOLDER, weather_forecast_file)))\n",
    "    \n",
    "\n",
    "weather_df = pd.concat(weather_df, ignore_index=True)\n",
    "\n",
    "saletllite_df = pd.read_csv(os.path.join(DATA_FOLDER, SATELLITE_FILE), header=None)"
   ]
  },
  {
   "cell_type": "markdown",
   "id": "d266c992-a705-4ef2-a5b9-dcff2e398c6a",
   "metadata": {},
   "source": [
    "# Data Preparation I"
   ]
  },
  {
   "cell_type": "markdown",
   "id": "66bb3abf-c5f0-4146-bf8f-b8c2fde82060",
   "metadata": {},
   "source": [
    "# Data Exploration"
   ]
  },
  {
   "cell_type": "markdown",
   "id": "d97c26ff-7af7-4362-9c3a-6095236d0eac",
   "metadata": {},
   "source": [
    "## Quality Check"
   ]
  },
  {
   "cell_type": "markdown",
   "id": "96c3c60b-7efb-403c-9641-e90e49f8374f",
   "metadata": {},
   "source": [
    "## Characteristics"
   ]
  },
  {
   "cell_type": "markdown",
   "id": "fac2f708-7264-4ddb-8200-b47afc0bfad6",
   "metadata": {},
   "source": [
    "## Modelling Preparation"
   ]
  },
  {
   "cell_type": "markdown",
   "id": "cf32c569-9a17-4025-b9d8-a8a9721d18ae",
   "metadata": {},
   "source": [
    "# Data Preparation II"
   ]
  },
  {
   "cell_type": "markdown",
   "id": "53840c31-a21a-4e23-9b50-770416c12835",
   "metadata": {},
   "source": [
    "# Modelling"
   ]
  },
  {
   "cell_type": "code",
   "execution_count": 53,
   "id": "d5194c0d",
   "metadata": {},
   "outputs": [
    {
     "data": {
      "text/plain": [
       "Timestamp('2016-01-01 00:00:00')"
      ]
     },
     "execution_count": 53,
     "metadata": {},
     "output_type": "execute_result"
    }
   ],
   "source": []
  },
  {
   "cell_type": "code",
   "execution_count": 62,
   "id": "383455b1-c9d9-4432-8723-844b078d918b",
   "metadata": {
    "tags": []
   },
   "outputs": [
    {
     "ename": "KeyboardInterrupt",
     "evalue": "",
     "output_type": "error",
     "traceback": [
      "\u001b[0;31m---------------------------------------------------------------------------\u001b[0m",
      "\u001b[0;31mKeyboardInterrupt\u001b[0m                         Traceback (most recent call last)",
      "Cell \u001b[0;32mIn[62], line 8\u001b[0m\n\u001b[1;32m      4\u001b[0m forecasts \u001b[39m=\u001b[39m []\n\u001b[1;32m      6\u001b[0m \u001b[39mfor\u001b[39;00m step \u001b[39min\u001b[39;00m \u001b[39mrange\u001b[39m(\u001b[39m60\u001b[39m \u001b[39m*\u001b[39m \u001b[39m24\u001b[39m \u001b[39m*\u001b[39m \u001b[39m7\u001b[39m):\n\u001b[0;32m----> 8\u001b[0m     insample_df, outsample_df \u001b[39m=\u001b[39m split_time_series_df(\n\u001b[1;32m      9\u001b[0m         df\u001b[39m=\u001b[39mghi_df,\n\u001b[1;32m     10\u001b[0m         start_date\u001b[39m=\u001b[39mstart_date,\n\u001b[1;32m     11\u001b[0m         time_column\u001b[39m=\u001b[39m\u001b[39m\"\u001b[39m\u001b[39mtime\u001b[39m\u001b[39m\"\u001b[39m,\n\u001b[1;32m     12\u001b[0m         steps_ahead\u001b[39m=\u001b[39m\u001b[39m7\u001b[39m,\n\u001b[1;32m     13\u001b[0m         resolution\u001b[39m=\u001b[39m\u001b[39m\"\u001b[39m\u001b[39mm\u001b[39m\u001b[39m\"\u001b[39m\n\u001b[1;32m     14\u001b[0m     )\n\u001b[1;32m     16\u001b[0m     start_date \u001b[39m+\u001b[39m\u001b[39m=\u001b[39m pd\u001b[39m.\u001b[39mto_timedelta(\u001b[39m1\u001b[39m, unit\u001b[39m=\u001b[39m\u001b[39m\"\u001b[39m\u001b[39mm\u001b[39m\u001b[39m\"\u001b[39m)\n\u001b[1;32m     18\u001b[0m     insample_series \u001b[39m=\u001b[39m insample_df[\u001b[39m\"\u001b[39m\u001b[39mghi\u001b[39m\u001b[39m\"\u001b[39m]\u001b[39m.\u001b[39mvalues\n",
      "File \u001b[0;32m~/Desktop/ghi_forecast/modules/data_handling/data_splitters.py:8\u001b[0m, in \u001b[0;36msplit_time_series_df\u001b[0;34m(df, start_date, time_column, steps_ahead, resolution)\u001b[0m\n\u001b[1;32m      7\u001b[0m \u001b[39mdef\u001b[39;00m \u001b[39msplit_time_series_df\u001b[39m(df, start_date, time_column, steps_ahead, resolution):\n\u001b[0;32m----> 8\u001b[0m     insample_df \u001b[39m=\u001b[39m df[df[time_column] \u001b[39m<\u001b[39m start_date]\u001b[39m.\u001b[39mcopy()\n\u001b[1;32m     10\u001b[0m     upper_datetime \u001b[39m=\u001b[39m insample_df[time_column]\u001b[39m.\u001b[39mmax() \u001b[39m+\u001b[39m pd\u001b[39m.\u001b[39mto_timedelta(steps_ahead, unit\u001b[39m=\u001b[39mresolution)\n\u001b[1;32m     11\u001b[0m     outsample_df \u001b[39m=\u001b[39m df[(df[time_column] \u001b[39m>\u001b[39m\u001b[39m=\u001b[39m start_date) \u001b[39m&\u001b[39m (df[time_column] \u001b[39m<\u001b[39m\u001b[39m=\u001b[39m upper_datetime)]\n",
      "File \u001b[0;32m~/mambaforge-pypy3/envs/ghi_forecast_env/lib/python3.11/site-packages/pandas/core/frame.py:3887\u001b[0m, in \u001b[0;36mDataFrame.__getitem__\u001b[0;34m(self, key)\u001b[0m\n\u001b[1;32m   3885\u001b[0m \u001b[39m# Do we have a (boolean) 1d indexer?\u001b[39;00m\n\u001b[1;32m   3886\u001b[0m \u001b[39mif\u001b[39;00m com\u001b[39m.\u001b[39mis_bool_indexer(key):\n\u001b[0;32m-> 3887\u001b[0m     \u001b[39mreturn\u001b[39;00m \u001b[39mself\u001b[39m\u001b[39m.\u001b[39m_getitem_bool_array(key)\n\u001b[1;32m   3889\u001b[0m \u001b[39m# We are left with two options: a single key, and a collection of keys,\u001b[39;00m\n\u001b[1;32m   3890\u001b[0m \u001b[39m# We interpret tuples as collections only for non-MultiIndex\u001b[39;00m\n\u001b[1;32m   3891\u001b[0m is_single_key \u001b[39m=\u001b[39m \u001b[39misinstance\u001b[39m(key, \u001b[39mtuple\u001b[39m) \u001b[39mor\u001b[39;00m \u001b[39mnot\u001b[39;00m is_list_like(key)\n",
      "File \u001b[0;32m~/mambaforge-pypy3/envs/ghi_forecast_env/lib/python3.11/site-packages/pandas/core/frame.py:3949\u001b[0m, in \u001b[0;36mDataFrame._getitem_bool_array\u001b[0;34m(self, key)\u001b[0m\n\u001b[1;32m   3946\u001b[0m     \u001b[39mreturn\u001b[39;00m \u001b[39mself\u001b[39m\u001b[39m.\u001b[39mcopy(deep\u001b[39m=\u001b[39m\u001b[39mNone\u001b[39;00m)\n\u001b[1;32m   3948\u001b[0m indexer \u001b[39m=\u001b[39m key\u001b[39m.\u001b[39mnonzero()[\u001b[39m0\u001b[39m]\n\u001b[0;32m-> 3949\u001b[0m \u001b[39mreturn\u001b[39;00m \u001b[39mself\u001b[39m\u001b[39m.\u001b[39m_take_with_is_copy(indexer, axis\u001b[39m=\u001b[39m\u001b[39m0\u001b[39m)\n",
      "File \u001b[0;32m~/mambaforge-pypy3/envs/ghi_forecast_env/lib/python3.11/site-packages/pandas/core/generic.py:4088\u001b[0m, in \u001b[0;36mNDFrame._take_with_is_copy\u001b[0;34m(self, indices, axis)\u001b[0m\n\u001b[1;32m   4077\u001b[0m \u001b[39m@final\u001b[39m\n\u001b[1;32m   4078\u001b[0m \u001b[39mdef\u001b[39;00m \u001b[39m_take_with_is_copy\u001b[39m(\u001b[39mself\u001b[39m, indices, axis: Axis \u001b[39m=\u001b[39m \u001b[39m0\u001b[39m) \u001b[39m-\u001b[39m\u001b[39m>\u001b[39m Self:\n\u001b[1;32m   4079\u001b[0m \u001b[39m    \u001b[39m\u001b[39m\"\"\"\u001b[39;00m\n\u001b[1;32m   4080\u001b[0m \u001b[39m    Internal version of the `take` method that sets the `_is_copy`\u001b[39;00m\n\u001b[1;32m   4081\u001b[0m \u001b[39m    attribute to keep track of the parent dataframe (using in indexing\u001b[39;00m\n\u001b[0;32m   (...)\u001b[0m\n\u001b[1;32m   4086\u001b[0m \u001b[39m    See the docstring of `take` for full explanation of the parameters.\u001b[39;00m\n\u001b[1;32m   4087\u001b[0m \u001b[39m    \"\"\"\u001b[39;00m\n\u001b[0;32m-> 4088\u001b[0m     result \u001b[39m=\u001b[39m \u001b[39mself\u001b[39m\u001b[39m.\u001b[39mtake(indices\u001b[39m=\u001b[39mindices, axis\u001b[39m=\u001b[39maxis)\n\u001b[1;32m   4089\u001b[0m     \u001b[39m# Maybe set copy if we didn't actually change the index.\u001b[39;00m\n\u001b[1;32m   4090\u001b[0m     \u001b[39mif\u001b[39;00m \u001b[39mself\u001b[39m\u001b[39m.\u001b[39mndim \u001b[39m==\u001b[39m \u001b[39m2\u001b[39m \u001b[39mand\u001b[39;00m \u001b[39mnot\u001b[39;00m result\u001b[39m.\u001b[39m_get_axis(axis)\u001b[39m.\u001b[39mequals(\u001b[39mself\u001b[39m\u001b[39m.\u001b[39m_get_axis(axis)):\n",
      "File \u001b[0;32m~/mambaforge-pypy3/envs/ghi_forecast_env/lib/python3.11/site-packages/pandas/core/generic.py:4068\u001b[0m, in \u001b[0;36mNDFrame.take\u001b[0;34m(self, indices, axis, **kwargs)\u001b[0m\n\u001b[1;32m   4063\u001b[0m     \u001b[39m# We can get here with a slice via DataFrame.__getitem__\u001b[39;00m\n\u001b[1;32m   4064\u001b[0m     indices \u001b[39m=\u001b[39m np\u001b[39m.\u001b[39marange(\n\u001b[1;32m   4065\u001b[0m         indices\u001b[39m.\u001b[39mstart, indices\u001b[39m.\u001b[39mstop, indices\u001b[39m.\u001b[39mstep, dtype\u001b[39m=\u001b[39mnp\u001b[39m.\u001b[39mintp\n\u001b[1;32m   4066\u001b[0m     )\n\u001b[0;32m-> 4068\u001b[0m new_data \u001b[39m=\u001b[39m \u001b[39mself\u001b[39m\u001b[39m.\u001b[39m_mgr\u001b[39m.\u001b[39mtake(\n\u001b[1;32m   4069\u001b[0m     indices,\n\u001b[1;32m   4070\u001b[0m     axis\u001b[39m=\u001b[39m\u001b[39mself\u001b[39m\u001b[39m.\u001b[39m_get_block_manager_axis(axis),\n\u001b[1;32m   4071\u001b[0m     verify\u001b[39m=\u001b[39m\u001b[39mTrue\u001b[39;00m,\n\u001b[1;32m   4072\u001b[0m )\n\u001b[1;32m   4073\u001b[0m \u001b[39mreturn\u001b[39;00m \u001b[39mself\u001b[39m\u001b[39m.\u001b[39m_constructor_from_mgr(new_data, axes\u001b[39m=\u001b[39mnew_data\u001b[39m.\u001b[39maxes)\u001b[39m.\u001b[39m__finalize__(\n\u001b[1;32m   4074\u001b[0m     \u001b[39mself\u001b[39m, method\u001b[39m=\u001b[39m\u001b[39m\"\u001b[39m\u001b[39mtake\u001b[39m\u001b[39m\"\u001b[39m\n\u001b[1;32m   4075\u001b[0m )\n",
      "File \u001b[0;32m~/mambaforge-pypy3/envs/ghi_forecast_env/lib/python3.11/site-packages/pandas/core/internals/managers.py:877\u001b[0m, in \u001b[0;36mBaseBlockManager.take\u001b[0;34m(self, indexer, axis, verify)\u001b[0m\n\u001b[1;32m    874\u001b[0m indexer \u001b[39m=\u001b[39m maybe_convert_indices(indexer, n, verify\u001b[39m=\u001b[39mverify)\n\u001b[1;32m    876\u001b[0m new_labels \u001b[39m=\u001b[39m \u001b[39mself\u001b[39m\u001b[39m.\u001b[39maxes[axis]\u001b[39m.\u001b[39mtake(indexer)\n\u001b[0;32m--> 877\u001b[0m \u001b[39mreturn\u001b[39;00m \u001b[39mself\u001b[39m\u001b[39m.\u001b[39mreindex_indexer(\n\u001b[1;32m    878\u001b[0m     new_axis\u001b[39m=\u001b[39mnew_labels,\n\u001b[1;32m    879\u001b[0m     indexer\u001b[39m=\u001b[39mindexer,\n\u001b[1;32m    880\u001b[0m     axis\u001b[39m=\u001b[39maxis,\n\u001b[1;32m    881\u001b[0m     allow_dups\u001b[39m=\u001b[39m\u001b[39mTrue\u001b[39;00m,\n\u001b[1;32m    882\u001b[0m     copy\u001b[39m=\u001b[39m\u001b[39mNone\u001b[39;00m,\n\u001b[1;32m    883\u001b[0m )\n",
      "File \u001b[0;32m~/mambaforge-pypy3/envs/ghi_forecast_env/lib/python3.11/site-packages/pandas/core/internals/managers.py:670\u001b[0m, in \u001b[0;36mBaseBlockManager.reindex_indexer\u001b[0;34m(self, new_axis, indexer, axis, fill_value, allow_dups, copy, only_slice, use_na_proxy)\u001b[0m\n\u001b[1;32m    663\u001b[0m     new_blocks \u001b[39m=\u001b[39m \u001b[39mself\u001b[39m\u001b[39m.\u001b[39m_slice_take_blocks_ax0(\n\u001b[1;32m    664\u001b[0m         indexer,\n\u001b[1;32m    665\u001b[0m         fill_value\u001b[39m=\u001b[39mfill_value,\n\u001b[1;32m    666\u001b[0m         only_slice\u001b[39m=\u001b[39monly_slice,\n\u001b[1;32m    667\u001b[0m         use_na_proxy\u001b[39m=\u001b[39muse_na_proxy,\n\u001b[1;32m    668\u001b[0m     )\n\u001b[1;32m    669\u001b[0m \u001b[39melse\u001b[39;00m:\n\u001b[0;32m--> 670\u001b[0m     new_blocks \u001b[39m=\u001b[39m [\n\u001b[1;32m    671\u001b[0m         blk\u001b[39m.\u001b[39mtake_nd(\n\u001b[1;32m    672\u001b[0m             indexer,\n\u001b[1;32m    673\u001b[0m             axis\u001b[39m=\u001b[39m\u001b[39m1\u001b[39m,\n\u001b[1;32m    674\u001b[0m             fill_value\u001b[39m=\u001b[39m(\n\u001b[1;32m    675\u001b[0m                 fill_value \u001b[39mif\u001b[39;00m fill_value \u001b[39mis\u001b[39;00m \u001b[39mnot\u001b[39;00m \u001b[39mNone\u001b[39;00m \u001b[39melse\u001b[39;00m blk\u001b[39m.\u001b[39mfill_value\n\u001b[1;32m    676\u001b[0m             ),\n\u001b[1;32m    677\u001b[0m         )\n\u001b[1;32m    678\u001b[0m         \u001b[39mfor\u001b[39;00m blk \u001b[39min\u001b[39;00m \u001b[39mself\u001b[39m\u001b[39m.\u001b[39mblocks\n\u001b[1;32m    679\u001b[0m     ]\n\u001b[1;32m    681\u001b[0m new_axes \u001b[39m=\u001b[39m \u001b[39mlist\u001b[39m(\u001b[39mself\u001b[39m\u001b[39m.\u001b[39maxes)\n\u001b[1;32m    682\u001b[0m new_axes[axis] \u001b[39m=\u001b[39m new_axis\n",
      "File \u001b[0;32m~/mambaforge-pypy3/envs/ghi_forecast_env/lib/python3.11/site-packages/pandas/core/internals/managers.py:671\u001b[0m, in \u001b[0;36m<listcomp>\u001b[0;34m(.0)\u001b[0m\n\u001b[1;32m    663\u001b[0m     new_blocks \u001b[39m=\u001b[39m \u001b[39mself\u001b[39m\u001b[39m.\u001b[39m_slice_take_blocks_ax0(\n\u001b[1;32m    664\u001b[0m         indexer,\n\u001b[1;32m    665\u001b[0m         fill_value\u001b[39m=\u001b[39mfill_value,\n\u001b[1;32m    666\u001b[0m         only_slice\u001b[39m=\u001b[39monly_slice,\n\u001b[1;32m    667\u001b[0m         use_na_proxy\u001b[39m=\u001b[39muse_na_proxy,\n\u001b[1;32m    668\u001b[0m     )\n\u001b[1;32m    669\u001b[0m \u001b[39melse\u001b[39;00m:\n\u001b[1;32m    670\u001b[0m     new_blocks \u001b[39m=\u001b[39m [\n\u001b[0;32m--> 671\u001b[0m         blk\u001b[39m.\u001b[39mtake_nd(\n\u001b[1;32m    672\u001b[0m             indexer,\n\u001b[1;32m    673\u001b[0m             axis\u001b[39m=\u001b[39m\u001b[39m1\u001b[39m,\n\u001b[1;32m    674\u001b[0m             fill_value\u001b[39m=\u001b[39m(\n\u001b[1;32m    675\u001b[0m                 fill_value \u001b[39mif\u001b[39;00m fill_value \u001b[39mis\u001b[39;00m \u001b[39mnot\u001b[39;00m \u001b[39mNone\u001b[39;00m \u001b[39melse\u001b[39;00m blk\u001b[39m.\u001b[39mfill_value\n\u001b[1;32m    676\u001b[0m             ),\n\u001b[1;32m    677\u001b[0m         )\n\u001b[1;32m    678\u001b[0m         \u001b[39mfor\u001b[39;00m blk \u001b[39min\u001b[39;00m \u001b[39mself\u001b[39m\u001b[39m.\u001b[39mblocks\n\u001b[1;32m    679\u001b[0m     ]\n\u001b[1;32m    681\u001b[0m new_axes \u001b[39m=\u001b[39m \u001b[39mlist\u001b[39m(\u001b[39mself\u001b[39m\u001b[39m.\u001b[39maxes)\n\u001b[1;32m    682\u001b[0m new_axes[axis] \u001b[39m=\u001b[39m new_axis\n",
      "File \u001b[0;32m~/mambaforge-pypy3/envs/ghi_forecast_env/lib/python3.11/site-packages/pandas/core/internals/blocks.py:1061\u001b[0m, in \u001b[0;36mBlock.take_nd\u001b[0;34m(self, indexer, axis, new_mgr_locs, fill_value)\u001b[0m\n\u001b[1;32m   1058\u001b[0m     allow_fill \u001b[39m=\u001b[39m \u001b[39mTrue\u001b[39;00m\n\u001b[1;32m   1060\u001b[0m \u001b[39m# Note: algos.take_nd has upcast logic similar to coerce_to_target_dtype\u001b[39;00m\n\u001b[0;32m-> 1061\u001b[0m new_values \u001b[39m=\u001b[39m algos\u001b[39m.\u001b[39mtake_nd(\n\u001b[1;32m   1062\u001b[0m     values, indexer, axis\u001b[39m=\u001b[39maxis, allow_fill\u001b[39m=\u001b[39mallow_fill, fill_value\u001b[39m=\u001b[39mfill_value\n\u001b[1;32m   1063\u001b[0m )\n\u001b[1;32m   1065\u001b[0m \u001b[39m# Called from three places in managers, all of which satisfy\u001b[39;00m\n\u001b[1;32m   1066\u001b[0m \u001b[39m#  these assertions\u001b[39;00m\n\u001b[1;32m   1067\u001b[0m \u001b[39mif\u001b[39;00m \u001b[39misinstance\u001b[39m(\u001b[39mself\u001b[39m, ExtensionBlock):\n\u001b[1;32m   1068\u001b[0m     \u001b[39m# NB: in this case, the 'axis' kwarg will be ignored in the\u001b[39;00m\n\u001b[1;32m   1069\u001b[0m     \u001b[39m#  algos.take_nd call above.\u001b[39;00m\n",
      "File \u001b[0;32m~/mambaforge-pypy3/envs/ghi_forecast_env/lib/python3.11/site-packages/pandas/core/array_algos/take.py:118\u001b[0m, in \u001b[0;36mtake_nd\u001b[0;34m(arr, indexer, axis, fill_value, allow_fill)\u001b[0m\n\u001b[1;32m    115\u001b[0m     \u001b[39mreturn\u001b[39;00m arr\u001b[39m.\u001b[39mtake(indexer, fill_value\u001b[39m=\u001b[39mfill_value, allow_fill\u001b[39m=\u001b[39mallow_fill)\n\u001b[1;32m    117\u001b[0m arr \u001b[39m=\u001b[39m np\u001b[39m.\u001b[39masarray(arr)\n\u001b[0;32m--> 118\u001b[0m \u001b[39mreturn\u001b[39;00m _take_nd_ndarray(arr, indexer, axis, fill_value, allow_fill)\n",
      "File \u001b[0;32m~/mambaforge-pypy3/envs/ghi_forecast_env/lib/python3.11/site-packages/pandas/core/array_algos/take.py:163\u001b[0m, in \u001b[0;36m_take_nd_ndarray\u001b[0;34m(arr, indexer, axis, fill_value, allow_fill)\u001b[0m\n\u001b[1;32m    158\u001b[0m     out \u001b[39m=\u001b[39m np\u001b[39m.\u001b[39mempty(out_shape, dtype\u001b[39m=\u001b[39mdtype)\n\u001b[1;32m    160\u001b[0m func \u001b[39m=\u001b[39m _get_take_nd_function(\n\u001b[1;32m    161\u001b[0m     arr\u001b[39m.\u001b[39mndim, arr\u001b[39m.\u001b[39mdtype, out\u001b[39m.\u001b[39mdtype, axis\u001b[39m=\u001b[39maxis, mask_info\u001b[39m=\u001b[39mmask_info\n\u001b[1;32m    162\u001b[0m )\n\u001b[0;32m--> 163\u001b[0m func(arr, indexer, out, fill_value)\n\u001b[1;32m    165\u001b[0m \u001b[39mif\u001b[39;00m flip_order:\n\u001b[1;32m    166\u001b[0m     out \u001b[39m=\u001b[39m out\u001b[39m.\u001b[39mT\n",
      "\u001b[0;31mKeyboardInterrupt\u001b[0m: "
     ]
    }
   ],
   "source": [
    "start_date = pd.to_datetime(TRAINING_END_DATE)\n",
    "\n",
    "ground_truth = []\n",
    "forecasts = []\n",
    "\n",
    "for step in range(60 * 24 * 7):\n",
    "\n",
    "    insample_df, outsample_df = split_time_series_df(\n",
    "        df=ghi_df,\n",
    "        start_date=start_date,\n",
    "        time_column=\"time\",\n",
    "        steps_ahead=30,\n",
    "        resolution=\"m\"\n",
    "    )\n",
    "\n",
    "    start_date += pd.to_timedelta(1, unit=\"m\")\n",
    "\n",
    "    insample_series = insample_df[\"ghi\"].values\n",
    "    outsample_series = outsample_df[\"ghi\"].values\n",
    "\n",
    "    insample_forecast, outsample_forecast = ewm_forecast(\n",
    "        time_series=insample_series,\n",
    "        steps_ahead=30,\n",
    "        alpha=0.5,\n",
    "    )\n",
    "\n",
    "    ground_truth.append(outsample_series)\n",
    "    forecasts.append(outsample_forecast)\n",
    "\n",
    "ground_truth = np.array(ground_truth)\n",
    "forecasts = np.array(forecasts)"
   ]
  },
  {
   "cell_type": "code",
   "execution_count": 75,
   "id": "a5286799",
   "metadata": {},
   "outputs": [
    {
     "data": {
      "image/png": "[encoded data removed]",
      "text/plain": [
       "<Figure size 1000x500 with 1 Axes>"
      ]
     },
     "metadata": {},
     "output_type": "display_data"
    }
   ],
   "source": [
    "ground_truth = np.array(ground_truth)\n",
    "forecasts = np.array(forecasts)\n",
    "\n",
    "error_mean, error_sem = compute_rmse(\n",
    "    y_true=ground_truth,\n",
    "    y_forecast=forecasts,\n",
    "    axis=0\n",
    ")\n",
    "\n",
    "fig, ax = plt.subplots(1, 1, figsize=(10, 5))\n",
    "ax = visualize_forecast_horizon_accuracy(\n",
    "    ax=ax,\n",
    "    model_name=\"Exponential Moving Average\",\n",
    "    error_name=\"RMSE\",\n",
    "    error_mean=error_mean,\n",
    "    error_sem=error_sem\n",
    ")\n",
    "plt.legend()\n",
    "plt.show()"
   ]
  },
  {
   "cell_type": "code",
   "execution_count": 73,
   "id": "2a63d299",
   "metadata": {},
   "outputs": [
    {
     "data": {
      "text/plain": [
       "array([ 6.64074532,  8.44248827,  9.67220818, 10.34970004, 10.75571581,\n",
       "       11.02189888, 11.20067191])"
      ]
     },
     "execution_count": 73,
     "metadata": {},
     "output_type": "execute_result"
    }
   ],
   "source": [
    "error_sem"
   ]
  },
  {
   "cell_type": "code",
   "execution_count": 69,
   "id": "6c31e227",
   "metadata": {},
   "outputs": [
    {
     "data": {
      "text/plain": [
       "(2307, 7)"
      ]
     },
     "execution_count": 69,
     "metadata": {},
     "output_type": "execute_result"
    }
   ],
   "source": [
    "ground_truth.shape"
   ]
  },
  {
   "cell_type": "code",
   "execution_count": null,
   "id": "22ad3c24",
   "metadata": {},
   "outputs": [],
   "source": []
  }
 ],
 "metadata": {
  "kernelspec": {
   "display_name": "Python 3 (ipykernel)",
   "language": "python",
   "name": "python3"
  },
  "language_info": {
   "codemirror_mode": {
    "name": "ipython",
    "version": 3
   },
   "file_extension": ".py",
   "mimetype": "text/x-python",
   "name": "python",
   "nbconvert_exporter": "python",
   "pygments_lexer": "ipython3",
   "version": "3.11.5"
  }
 },
 "nbformat": 4,
 "nbformat_minor": 5
}
